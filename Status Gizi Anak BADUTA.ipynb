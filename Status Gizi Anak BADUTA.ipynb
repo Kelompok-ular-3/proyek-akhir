{
 "cells": [
  {
   "cell_type": "code",
   "execution_count": 201,
   "id": "fc29ab04",
   "metadata": {},
   "outputs": [],
   "source": [
    "import pandas as pd\n",
    "import seaborn as sns\n",
    "import numpy as np\n",
    "import matplotlib.pyplot as plt\n",
    "from sklearn.model_selection import train_test_split\n",
    "from sklearn.tree import DecisionTreeClassifier\n",
    "from sklearn.linear_model import LogisticRegression\n",
    "from sklearn.ensemble import RandomForestClassifier\n",
    "from sklearn.metrics import accuracy_score,precision_score,recall_score,confusion_matrix,classification_report"
   ]
  },
  {
   "cell_type": "code",
   "execution_count": 202,
   "id": "1abe16fc",
   "metadata": {},
   "outputs": [
    {
     "data": {
      "text/html": [
       "<div>\n",
       "<style scoped>\n",
       "    .dataframe tbody tr th:only-of-type {\n",
       "        vertical-align: middle;\n",
       "    }\n",
       "\n",
       "    .dataframe tbody tr th {\n",
       "        vertical-align: top;\n",
       "    }\n",
       "\n",
       "    .dataframe thead th {\n",
       "        text-align: right;\n",
       "    }\n",
       "</style>\n",
       "<table border=\"1\" class=\"dataframe\">\n",
       "  <thead>\n",
       "    <tr style=\"text-align: right;\">\n",
       "      <th></th>\n",
       "      <th>KodeSampel</th>\n",
       "      <th>NamaBaduta</th>\n",
       "      <th>JenisKelamin</th>\n",
       "      <th>TanggalLahir</th>\n",
       "      <th>UmurBaduta</th>\n",
       "      <th>AnakKe</th>\n",
       "      <th>JumlahAnak</th>\n",
       "      <th>BBLahir</th>\n",
       "      <th>PBLahir</th>\n",
       "      <th>TanggalUkur</th>\n",
       "      <th>...</th>\n",
       "      <th>MerkGaram</th>\n",
       "      <th>BeratGaram</th>\n",
       "      <th>HargaGaram</th>\n",
       "      <th>PmrksaanIodium</th>\n",
       "      <th>VAR00001</th>\n",
       "      <th>VAR00002</th>\n",
       "      <th>VAR00003</th>\n",
       "      <th>VAR00004</th>\n",
       "      <th>VAR00005</th>\n",
       "      <th>Status</th>\n",
       "    </tr>\n",
       "  </thead>\n",
       "  <tbody>\n",
       "    <tr>\n",
       "      <th>0</th>\n",
       "      <td>1101.0</td>\n",
       "      <td>Hana Nur Azizah</td>\n",
       "      <td>2.0</td>\n",
       "      <td>2018-07-16 00:00:00</td>\n",
       "      <td>8.0</td>\n",
       "      <td>1.0</td>\n",
       "      <td>1.0</td>\n",
       "      <td>3.0</td>\n",
       "      <td>50.0</td>\n",
       "      <td>2019-04-10 00:00:00</td>\n",
       "      <td>...</td>\n",
       "      <td>Daun</td>\n",
       "      <td>250.0</td>\n",
       "      <td>2500.0</td>\n",
       "      <td>1.0</td>\n",
       "      <td>1.0</td>\n",
       "      <td>1.0</td>\n",
       "      <td>2.0</td>\n",
       "      <td>2.0</td>\n",
       "      <td>1.0</td>\n",
       "      <td>tidak stunting</td>\n",
       "    </tr>\n",
       "    <tr>\n",
       "      <th>1</th>\n",
       "      <td>1102.0</td>\n",
       "      <td>Aqila Shakuena Humaira</td>\n",
       "      <td>2.0</td>\n",
       "      <td>2018-03-13 00:00:00</td>\n",
       "      <td>13.0</td>\n",
       "      <td>1.0</td>\n",
       "      <td>1.0</td>\n",
       "      <td>2.5</td>\n",
       "      <td>47.0</td>\n",
       "      <td>2019-04-10 00:00:00</td>\n",
       "      <td>...</td>\n",
       "      <td>Daun</td>\n",
       "      <td>250.0</td>\n",
       "      <td>2500.0</td>\n",
       "      <td>1.0</td>\n",
       "      <td>2.0</td>\n",
       "      <td>2.0</td>\n",
       "      <td>1.0</td>\n",
       "      <td>1.0</td>\n",
       "      <td>2.0</td>\n",
       "      <td>tidak stunting</td>\n",
       "    </tr>\n",
       "    <tr>\n",
       "      <th>2</th>\n",
       "      <td>1103.0</td>\n",
       "      <td>Altan Artanabil Setiawan</td>\n",
       "      <td>1.0</td>\n",
       "      <td>2018-07-09 00:00:00</td>\n",
       "      <td>9.0</td>\n",
       "      <td>2.0</td>\n",
       "      <td>2.0</td>\n",
       "      <td>3.4</td>\n",
       "      <td>50.0</td>\n",
       "      <td>2019-04-10 00:00:00</td>\n",
       "      <td>...</td>\n",
       "      <td>Daun</td>\n",
       "      <td>250.0</td>\n",
       "      <td>2500.0</td>\n",
       "      <td>1.0</td>\n",
       "      <td>1.0</td>\n",
       "      <td>1.0</td>\n",
       "      <td>1.0</td>\n",
       "      <td>2.0</td>\n",
       "      <td>1.0</td>\n",
       "      <td>stunting</td>\n",
       "    </tr>\n",
       "    <tr>\n",
       "      <th>3</th>\n",
       "      <td>1104.0</td>\n",
       "      <td>Adrian Pradita Maspuri</td>\n",
       "      <td>1.0</td>\n",
       "      <td>2017-05-25 00:00:00</td>\n",
       "      <td>23.0</td>\n",
       "      <td>1.0</td>\n",
       "      <td>1.0</td>\n",
       "      <td>2.1</td>\n",
       "      <td>39.0</td>\n",
       "      <td>2019-04-10 00:00:00</td>\n",
       "      <td>...</td>\n",
       "      <td>Daun</td>\n",
       "      <td>250.0</td>\n",
       "      <td>2500.0</td>\n",
       "      <td>1.0</td>\n",
       "      <td>2.0</td>\n",
       "      <td>2.0</td>\n",
       "      <td>2.0</td>\n",
       "      <td>2.0</td>\n",
       "      <td>1.0</td>\n",
       "      <td>tidak stunting</td>\n",
       "    </tr>\n",
       "    <tr>\n",
       "      <th>4</th>\n",
       "      <td>1105.0</td>\n",
       "      <td>Yaqis Hagata</td>\n",
       "      <td>1.0</td>\n",
       "      <td>2018-06-28 00:00:00</td>\n",
       "      <td>8.0</td>\n",
       "      <td>3.0</td>\n",
       "      <td>3.0</td>\n",
       "      <td>2.9</td>\n",
       "      <td>45.0</td>\n",
       "      <td>2019-04-10 00:00:00</td>\n",
       "      <td>...</td>\n",
       "      <td>Daun</td>\n",
       "      <td>250.0</td>\n",
       "      <td>2500.0</td>\n",
       "      <td>1.0</td>\n",
       "      <td>1.0</td>\n",
       "      <td>1.0</td>\n",
       "      <td>1.0</td>\n",
       "      <td>1.0</td>\n",
       "      <td>2.0</td>\n",
       "      <td>tidak stunting</td>\n",
       "    </tr>\n",
       "  </tbody>\n",
       "</table>\n",
       "<p>5 rows × 172 columns</p>\n",
       "</div>"
      ],
      "text/plain": [
       "   KodeSampel                NamaBaduta  JenisKelamin         TanggalLahir  \\\n",
       "0      1101.0           Hana Nur Azizah           2.0  2018-07-16 00:00:00   \n",
       "1      1102.0    Aqila Shakuena Humaira           2.0  2018-03-13 00:00:00   \n",
       "2      1103.0  Altan Artanabil Setiawan           1.0  2018-07-09 00:00:00   \n",
       "3      1104.0    Adrian Pradita Maspuri           1.0  2017-05-25 00:00:00   \n",
       "4      1105.0              Yaqis Hagata           1.0  2018-06-28 00:00:00   \n",
       "\n",
       "   UmurBaduta  AnakKe  JumlahAnak  BBLahir  PBLahir          TanggalUkur  ...  \\\n",
       "0         8.0     1.0         1.0      3.0     50.0  2019-04-10 00:00:00  ...   \n",
       "1        13.0     1.0         1.0      2.5     47.0  2019-04-10 00:00:00  ...   \n",
       "2         9.0     2.0         2.0      3.4     50.0  2019-04-10 00:00:00  ...   \n",
       "3        23.0     1.0         1.0      2.1     39.0  2019-04-10 00:00:00  ...   \n",
       "4         8.0     3.0         3.0      2.9     45.0  2019-04-10 00:00:00  ...   \n",
       "\n",
       "   MerkGaram  BeratGaram  HargaGaram  PmrksaanIodium  VAR00001  VAR00002  \\\n",
       "0       Daun       250.0      2500.0             1.0       1.0       1.0   \n",
       "1       Daun       250.0      2500.0             1.0       2.0       2.0   \n",
       "2       Daun       250.0      2500.0             1.0       1.0       1.0   \n",
       "3       Daun       250.0      2500.0             1.0       2.0       2.0   \n",
       "4       Daun       250.0      2500.0             1.0       1.0       1.0   \n",
       "\n",
       "   VAR00003  VAR00004  VAR00005          Status  \n",
       "0       2.0       2.0       1.0  tidak stunting  \n",
       "1       1.0       1.0       2.0  tidak stunting  \n",
       "2       1.0       2.0       1.0        stunting  \n",
       "3       2.0       2.0       1.0  tidak stunting  \n",
       "4       1.0       1.0       2.0  tidak stunting  \n",
       "\n",
       "[5 rows x 172 columns]"
      ]
     },
     "execution_count": 202,
     "metadata": {},
     "output_type": "execute_result"
    }
   ],
   "source": [
    "path_to_data = \"D:/0 Orbit Proyek Akhir/BADUTA-BATITA KEMRANJEN.xlsx\" # Path to the Excel file\n",
    "dataset = pd.read_excel(path_to_data)\n",
    "dataset.head()"
   ]
  },
  {
   "cell_type": "code",
   "execution_count": 203,
   "id": "6251f94c",
   "metadata": {},
   "outputs": [
    {
     "name": "stdout",
     "output_type": "stream",
     "text": [
      "<class 'pandas.core.frame.DataFrame'>\n",
      "RangeIndex: 557 entries, 0 to 556\n",
      "Columns: 172 entries, KodeSampel to Status\n",
      "dtypes: float64(155), object(17)\n",
      "memory usage: 748.6+ KB\n"
     ]
    }
   ],
   "source": [
    "dataset.info()"
   ]
  },
  {
   "cell_type": "code",
   "execution_count": 204,
   "id": "2db8ff40",
   "metadata": {},
   "outputs": [
    {
     "data": {
      "text/html": [
       "<div>\n",
       "<style scoped>\n",
       "    .dataframe tbody tr th:only-of-type {\n",
       "        vertical-align: middle;\n",
       "    }\n",
       "\n",
       "    .dataframe tbody tr th {\n",
       "        vertical-align: top;\n",
       "    }\n",
       "\n",
       "    .dataframe thead th {\n",
       "        text-align: right;\n",
       "    }\n",
       "</style>\n",
       "<table border=\"1\" class=\"dataframe\">\n",
       "  <thead>\n",
       "    <tr style=\"text-align: right;\">\n",
       "      <th></th>\n",
       "      <th>UmurBaduta</th>\n",
       "      <th>BBLahir</th>\n",
       "      <th>PBLahir</th>\n",
       "      <th>Status</th>\n",
       "    </tr>\n",
       "  </thead>\n",
       "  <tbody>\n",
       "    <tr>\n",
       "      <th>0</th>\n",
       "      <td>8.0</td>\n",
       "      <td>3.0</td>\n",
       "      <td>50.0</td>\n",
       "      <td>tidak stunting</td>\n",
       "    </tr>\n",
       "    <tr>\n",
       "      <th>1</th>\n",
       "      <td>13.0</td>\n",
       "      <td>2.5</td>\n",
       "      <td>47.0</td>\n",
       "      <td>tidak stunting</td>\n",
       "    </tr>\n",
       "    <tr>\n",
       "      <th>2</th>\n",
       "      <td>9.0</td>\n",
       "      <td>3.4</td>\n",
       "      <td>50.0</td>\n",
       "      <td>stunting</td>\n",
       "    </tr>\n",
       "    <tr>\n",
       "      <th>3</th>\n",
       "      <td>23.0</td>\n",
       "      <td>2.1</td>\n",
       "      <td>39.0</td>\n",
       "      <td>tidak stunting</td>\n",
       "    </tr>\n",
       "    <tr>\n",
       "      <th>4</th>\n",
       "      <td>8.0</td>\n",
       "      <td>2.9</td>\n",
       "      <td>45.0</td>\n",
       "      <td>tidak stunting</td>\n",
       "    </tr>\n",
       "    <tr>\n",
       "      <th>...</th>\n",
       "      <td>...</td>\n",
       "      <td>...</td>\n",
       "      <td>...</td>\n",
       "      <td>...</td>\n",
       "    </tr>\n",
       "    <tr>\n",
       "      <th>552</th>\n",
       "      <td>10.0</td>\n",
       "      <td>3.1</td>\n",
       "      <td>48.0</td>\n",
       "      <td>tidak stunting</td>\n",
       "    </tr>\n",
       "    <tr>\n",
       "      <th>553</th>\n",
       "      <td>17.0</td>\n",
       "      <td>2.7</td>\n",
       "      <td>47.0</td>\n",
       "      <td>tidak stunting</td>\n",
       "    </tr>\n",
       "    <tr>\n",
       "      <th>554</th>\n",
       "      <td>7.0</td>\n",
       "      <td>3.1</td>\n",
       "      <td>50.0</td>\n",
       "      <td>tidak stunting</td>\n",
       "    </tr>\n",
       "    <tr>\n",
       "      <th>555</th>\n",
       "      <td>7.0</td>\n",
       "      <td>3.4</td>\n",
       "      <td>49.0</td>\n",
       "      <td>tidak stunting</td>\n",
       "    </tr>\n",
       "    <tr>\n",
       "      <th>556</th>\n",
       "      <td>11.0</td>\n",
       "      <td>2.6</td>\n",
       "      <td>46.0</td>\n",
       "      <td>stunting</td>\n",
       "    </tr>\n",
       "  </tbody>\n",
       "</table>\n",
       "<p>557 rows × 4 columns</p>\n",
       "</div>"
      ],
      "text/plain": [
       "     UmurBaduta  BBLahir  PBLahir          Status\n",
       "0           8.0      3.0     50.0  tidak stunting\n",
       "1          13.0      2.5     47.0  tidak stunting\n",
       "2           9.0      3.4     50.0        stunting\n",
       "3          23.0      2.1     39.0  tidak stunting\n",
       "4           8.0      2.9     45.0  tidak stunting\n",
       "..          ...      ...      ...             ...\n",
       "552        10.0      3.1     48.0  tidak stunting\n",
       "553        17.0      2.7     47.0  tidak stunting\n",
       "554         7.0      3.1     50.0  tidak stunting\n",
       "555         7.0      3.4     49.0  tidak stunting\n",
       "556        11.0      2.6     46.0        stunting\n",
       "\n",
       "[557 rows x 4 columns]"
      ]
     },
     "execution_count": 204,
     "metadata": {},
     "output_type": "execute_result"
    }
   ],
   "source": [
    "dataset = dataset[[\"UmurBaduta\", \"BBLahir\", \"PBLahir\", \"Status\"]]\n",
    "dataset"
   ]
  },
  {
   "cell_type": "code",
   "execution_count": 205,
   "id": "ae9824d8",
   "metadata": {},
   "outputs": [
    {
     "name": "stdout",
     "output_type": "stream",
     "text": [
      "<class 'pandas.core.frame.DataFrame'>\n",
      "RangeIndex: 557 entries, 0 to 556\n",
      "Data columns (total 4 columns):\n",
      " #   Column      Non-Null Count  Dtype  \n",
      "---  ------      --------------  -----  \n",
      " 0   UmurBaduta  550 non-null    float64\n",
      " 1   BBLahir     550 non-null    float64\n",
      " 2   PBLahir     550 non-null    float64\n",
      " 3   Status      550 non-null    object \n",
      "dtypes: float64(3), object(1)\n",
      "memory usage: 17.5+ KB\n"
     ]
    }
   ],
   "source": [
    "dataset.info()"
   ]
  },
  {
   "cell_type": "code",
   "execution_count": 206,
   "id": "5726f150",
   "metadata": {},
   "outputs": [
    {
     "data": {
      "text/html": [
       "<div>\n",
       "<style scoped>\n",
       "    .dataframe tbody tr th:only-of-type {\n",
       "        vertical-align: middle;\n",
       "    }\n",
       "\n",
       "    .dataframe tbody tr th {\n",
       "        vertical-align: top;\n",
       "    }\n",
       "\n",
       "    .dataframe thead th {\n",
       "        text-align: right;\n",
       "    }\n",
       "</style>\n",
       "<table border=\"1\" class=\"dataframe\">\n",
       "  <thead>\n",
       "    <tr style=\"text-align: right;\">\n",
       "      <th></th>\n",
       "      <th>UmurBaduta</th>\n",
       "      <th>BBLahir</th>\n",
       "      <th>PBLahir</th>\n",
       "    </tr>\n",
       "  </thead>\n",
       "  <tbody>\n",
       "    <tr>\n",
       "      <th>count</th>\n",
       "      <td>550.000000</td>\n",
       "      <td>550.000000</td>\n",
       "      <td>550.000000</td>\n",
       "    </tr>\n",
       "    <tr>\n",
       "      <th>mean</th>\n",
       "      <td>13.707273</td>\n",
       "      <td>3.005291</td>\n",
       "      <td>48.301273</td>\n",
       "    </tr>\n",
       "    <tr>\n",
       "      <th>std</th>\n",
       "      <td>7.384554</td>\n",
       "      <td>0.444960</td>\n",
       "      <td>2.465370</td>\n",
       "    </tr>\n",
       "    <tr>\n",
       "      <th>min</th>\n",
       "      <td>1.000000</td>\n",
       "      <td>1.500000</td>\n",
       "      <td>36.000000</td>\n",
       "    </tr>\n",
       "    <tr>\n",
       "      <th>25%</th>\n",
       "      <td>8.250000</td>\n",
       "      <td>2.700000</td>\n",
       "      <td>47.000000</td>\n",
       "    </tr>\n",
       "    <tr>\n",
       "      <th>50%</th>\n",
       "      <td>13.000000</td>\n",
       "      <td>3.000000</td>\n",
       "      <td>48.000000</td>\n",
       "    </tr>\n",
       "    <tr>\n",
       "      <th>75%</th>\n",
       "      <td>20.000000</td>\n",
       "      <td>3.300000</td>\n",
       "      <td>50.000000</td>\n",
       "    </tr>\n",
       "    <tr>\n",
       "      <th>max</th>\n",
       "      <td>37.000000</td>\n",
       "      <td>4.200000</td>\n",
       "      <td>58.000000</td>\n",
       "    </tr>\n",
       "  </tbody>\n",
       "</table>\n",
       "</div>"
      ],
      "text/plain": [
       "       UmurBaduta     BBLahir     PBLahir\n",
       "count  550.000000  550.000000  550.000000\n",
       "mean    13.707273    3.005291   48.301273\n",
       "std      7.384554    0.444960    2.465370\n",
       "min      1.000000    1.500000   36.000000\n",
       "25%      8.250000    2.700000   47.000000\n",
       "50%     13.000000    3.000000   48.000000\n",
       "75%     20.000000    3.300000   50.000000\n",
       "max     37.000000    4.200000   58.000000"
      ]
     },
     "execution_count": 206,
     "metadata": {},
     "output_type": "execute_result"
    }
   ],
   "source": [
    "dataset.describe()"
   ]
  },
  {
   "cell_type": "code",
   "execution_count": 207,
   "id": "89003074",
   "metadata": {},
   "outputs": [
    {
     "data": {
      "text/plain": [
       "UmurBaduta    7\n",
       "BBLahir       7\n",
       "PBLahir       7\n",
       "Status        7\n",
       "dtype: int64"
      ]
     },
     "execution_count": 207,
     "metadata": {},
     "output_type": "execute_result"
    }
   ],
   "source": [
    "dataset.isna().sum()"
   ]
  },
  {
   "cell_type": "code",
   "execution_count": 208,
   "id": "333ba2b7",
   "metadata": {},
   "outputs": [],
   "source": [
    "dataset.dropna(inplace = True)"
   ]
  },
  {
   "cell_type": "code",
   "execution_count": 209,
   "id": "167e2246",
   "metadata": {},
   "outputs": [
    {
     "data": {
      "text/plain": [
       "UmurBaduta    0\n",
       "BBLahir       0\n",
       "PBLahir       0\n",
       "Status        0\n",
       "dtype: int64"
      ]
     },
     "execution_count": 209,
     "metadata": {},
     "output_type": "execute_result"
    }
   ],
   "source": [
    "dataset.isna().sum()"
   ]
  },
  {
   "cell_type": "code",
   "execution_count": 210,
   "id": "a9a70673",
   "metadata": {},
   "outputs": [
    {
     "data": {
      "text/plain": [
       "tidak stunting    491\n",
       "stunting           59\n",
       "Name: Status, dtype: int64"
      ]
     },
     "execution_count": 210,
     "metadata": {},
     "output_type": "execute_result"
    }
   ],
   "source": [
    "dataset[\"Status\"].value_counts()"
   ]
  },
  {
   "cell_type": "code",
   "execution_count": 243,
   "id": "3df98aa5",
   "metadata": {},
   "outputs": [
    {
     "data": {
      "text/plain": [
       "<AxesSubplot:xlabel='Status', ylabel='BBLahir'>"
      ]
     },
     "execution_count": 243,
     "metadata": {},
     "output_type": "execute_result"
    },
    {
     "data": {
      "image/png": "[encoded data removed]",
      "text/plain": [
       "<Figure size 432x288 with 1 Axes>"
      ]
     },
     "metadata": {
      "needs_background": "light"
     },
     "output_type": "display_data"
    }
   ],
   "source": [
    "sns.barplot(x='Status', y='BBLahir', data=dataset)"
   ]
  },
  {
   "cell_type": "code",
   "execution_count": 255,
   "id": "9d2eae26",
   "metadata": {},
   "outputs": [
    {
     "data": {
      "text/plain": [
       "<AxesSubplot:xlabel='Status', ylabel='PBLahir'>"
      ]
     },
     "execution_count": 255,
     "metadata": {},
     "output_type": "execute_result"
    },
    {
     "data": {
      "image/png": "[encoded data removed]",
      "text/plain": [
       "<Figure size 432x288 with 1 Axes>"
      ]
     },
     "metadata": {
      "needs_background": "light"
     },
     "output_type": "display_data"
    }
   ],
   "source": [
    "sns.barplot(x='Status', y='PBLahir', data=dataset)"
   ]
  },
  {
   "cell_type": "code",
   "execution_count": 252,
   "id": "dca97db0",
   "metadata": {},
   "outputs": [
    {
     "data": {
      "text/plain": [
       "<AxesSubplot:xlabel='Status', ylabel='Density'>"
      ]
     },
     "execution_count": 252,
     "metadata": {},
     "output_type": "execute_result"
    },
    {
     "data": {
      "image/png": "[encoded data removed]",
      "text/plain": [
       "<Figure size 432x288 with 1 Axes>"
      ]
     },
     "metadata": {
      "needs_background": "light"
     },
     "output_type": "display_data"
    }
   ],
   "source": [
    "sns.distplot(dataset['Status']=='stunting')"
   ]
  },
  {
   "cell_type": "code",
   "execution_count": 253,
   "id": "7ca97021",
   "metadata": {},
   "outputs": [
    {
     "name": "stderr",
     "output_type": "stream",
     "text": [
      "C:\\Users\\Indah Wardatunizza\\anaconda3\\lib\\site-packages\\seaborn\\distributions.py:2619: FutureWarning: `distplot` is a deprecated function and will be removed in a future version. Please adapt your code to use either `displot` (a figure-level function with similar flexibility) or `histplot` (an axes-level function for histograms).\n",
      "  warnings.warn(msg, FutureWarning)\n"
     ]
    },
    {
     "data": {
      "text/plain": [
       "<AxesSubplot:xlabel='Status', ylabel='Density'>"
      ]
     },
     "execution_count": 253,
     "metadata": {},
     "output_type": "execute_result"
    },
    {
     "data": {
      "image/png": "[encoded data removed]",
      "text/plain": [
       "<Figure size 432x288 with 1 Axes>"
      ]
     },
     "metadata": {
      "needs_background": "light"
     },
     "output_type": "display_data"
    }
   ],
   "source": [
    "sns.distplot(dataset['Status']=='tidak stunting')"
   ]
  },
  {
   "cell_type": "code",
   "execution_count": 256,
   "id": "149dd7bd",
   "metadata": {},
   "outputs": [],
   "source": [
    "x = dataset.iloc[:, :-1]\n",
    "y = dataset.iloc[:, -1]"
   ]
  },
  {
   "cell_type": "code",
   "execution_count": 257,
   "id": "d1b7d095",
   "metadata": {},
   "outputs": [
    {
     "data": {
      "text/html": [
       "<div>\n",
       "<style scoped>\n",
       "    .dataframe tbody tr th:only-of-type {\n",
       "        vertical-align: middle;\n",
       "    }\n",
       "\n",
       "    .dataframe tbody tr th {\n",
       "        vertical-align: top;\n",
       "    }\n",
       "\n",
       "    .dataframe thead th {\n",
       "        text-align: right;\n",
       "    }\n",
       "</style>\n",
       "<table border=\"1\" class=\"dataframe\">\n",
       "  <thead>\n",
       "    <tr style=\"text-align: right;\">\n",
       "      <th></th>\n",
       "      <th>UmurBaduta</th>\n",
       "      <th>BBLahir</th>\n",
       "      <th>PBLahir</th>\n",
       "    </tr>\n",
       "  </thead>\n",
       "  <tbody>\n",
       "    <tr>\n",
       "      <th>0</th>\n",
       "      <td>8.0</td>\n",
       "      <td>3.0</td>\n",
       "      <td>50.0</td>\n",
       "    </tr>\n",
       "    <tr>\n",
       "      <th>1</th>\n",
       "      <td>13.0</td>\n",
       "      <td>2.5</td>\n",
       "      <td>47.0</td>\n",
       "    </tr>\n",
       "    <tr>\n",
       "      <th>2</th>\n",
       "      <td>9.0</td>\n",
       "      <td>3.4</td>\n",
       "      <td>50.0</td>\n",
       "    </tr>\n",
       "    <tr>\n",
       "      <th>3</th>\n",
       "      <td>23.0</td>\n",
       "      <td>2.1</td>\n",
       "      <td>39.0</td>\n",
       "    </tr>\n",
       "    <tr>\n",
       "      <th>4</th>\n",
       "      <td>8.0</td>\n",
       "      <td>2.9</td>\n",
       "      <td>45.0</td>\n",
       "    </tr>\n",
       "    <tr>\n",
       "      <th>...</th>\n",
       "      <td>...</td>\n",
       "      <td>...</td>\n",
       "      <td>...</td>\n",
       "    </tr>\n",
       "    <tr>\n",
       "      <th>552</th>\n",
       "      <td>10.0</td>\n",
       "      <td>3.1</td>\n",
       "      <td>48.0</td>\n",
       "    </tr>\n",
       "    <tr>\n",
       "      <th>553</th>\n",
       "      <td>17.0</td>\n",
       "      <td>2.7</td>\n",
       "      <td>47.0</td>\n",
       "    </tr>\n",
       "    <tr>\n",
       "      <th>554</th>\n",
       "      <td>7.0</td>\n",
       "      <td>3.1</td>\n",
       "      <td>50.0</td>\n",
       "    </tr>\n",
       "    <tr>\n",
       "      <th>555</th>\n",
       "      <td>7.0</td>\n",
       "      <td>3.4</td>\n",
       "      <td>49.0</td>\n",
       "    </tr>\n",
       "    <tr>\n",
       "      <th>556</th>\n",
       "      <td>11.0</td>\n",
       "      <td>2.6</td>\n",
       "      <td>46.0</td>\n",
       "    </tr>\n",
       "  </tbody>\n",
       "</table>\n",
       "<p>550 rows × 3 columns</p>\n",
       "</div>"
      ],
      "text/plain": [
       "     UmurBaduta  BBLahir  PBLahir\n",
       "0           8.0      3.0     50.0\n",
       "1          13.0      2.5     47.0\n",
       "2           9.0      3.4     50.0\n",
       "3          23.0      2.1     39.0\n",
       "4           8.0      2.9     45.0\n",
       "..          ...      ...      ...\n",
       "552        10.0      3.1     48.0\n",
       "553        17.0      2.7     47.0\n",
       "554         7.0      3.1     50.0\n",
       "555         7.0      3.4     49.0\n",
       "556        11.0      2.6     46.0\n",
       "\n",
       "[550 rows x 3 columns]"
      ]
     },
     "execution_count": 257,
     "metadata": {},
     "output_type": "execute_result"
    }
   ],
   "source": [
    "x"
   ]
  },
  {
   "cell_type": "code",
   "execution_count": 258,
   "id": "0d57025a",
   "metadata": {},
   "outputs": [
    {
     "data": {
      "text/plain": [
       "0      tidak stunting\n",
       "1      tidak stunting\n",
       "2            stunting\n",
       "3      tidak stunting\n",
       "4      tidak stunting\n",
       "            ...      \n",
       "552    tidak stunting\n",
       "553    tidak stunting\n",
       "554    tidak stunting\n",
       "555    tidak stunting\n",
       "556          stunting\n",
       "Name: Status, Length: 550, dtype: object"
      ]
     },
     "execution_count": 258,
     "metadata": {},
     "output_type": "execute_result"
    }
   ],
   "source": [
    "y"
   ]
  },
  {
   "cell_type": "code",
   "execution_count": 259,
   "id": "d24424cc",
   "metadata": {},
   "outputs": [],
   "source": [
    "x_train, x_test, y_train, y_test = train_test_split(x, y, test_size=0.20)"
   ]
  },
  {
   "cell_type": "code",
   "execution_count": 260,
   "id": "1662ee01",
   "metadata": {},
   "outputs": [],
   "source": [
    "# model = DecisionTreeClassifier(criterion=\"entropy\", random_state=0, max_depth=3)\n",
    "# model = model.fit(x_train, y_train)\n",
    "\n",
    "model_dt = DecisionTreeClassifier(criterion=\"entropy\", random_state=0, max_depth=20)\n",
    "model_rf = RandomForestClassifier(max_depth=20, random_state=0)\n",
    "model_logres = LogisticRegression(random_state=0)\n",
    "model_dt = model_dt.fit(x_train, y_train)\n",
    "model_rf = model_rf.fit(x_train, y_train)\n",
    "model_logres = model_logres.fit(x_train, y_train)"
   ]
  },
  {
   "cell_type": "code",
   "execution_count": 261,
   "id": "bbeb81b7",
   "metadata": {},
   "outputs": [],
   "source": [
    "accuracy_train_dt = model_dt.score(x_train, y_train)\n",
    "accuracy_test_dt  = model_dt.score(x_test, y_test)\n",
    "accuracy_train_rf = model_rf.score(x_train, y_train)\n",
    "accuracy_test_rf  = model_rf.score(x_test, y_test)\n",
    "accuracy_train_logres = model_logres.score(x_train, y_train)\n",
    "accuracy_test_logres  = model_logres.score(x_test, y_test)"
   ]
  },
  {
   "cell_type": "code",
   "execution_count": 262,
   "id": "7f08dc04",
   "metadata": {},
   "outputs": [
    {
     "name": "stdout",
     "output_type": "stream",
     "text": [
      "Akurasi Model (Train) : 97.5 %\n",
      "Akurasi Model (Test)  : 78.18 %\n"
     ]
    }
   ],
   "source": [
    "print(f\"Akurasi Model (Train) : {np.round(accuracy_train_dt * 100,2)} %\")\n",
    "print(f\"Akurasi Model (Test)  : {np.round(accuracy_test_dt * 100,2)} %\")"
   ]
  },
  {
   "cell_type": "code",
   "execution_count": 263,
   "id": "1fef56c8",
   "metadata": {},
   "outputs": [
    {
     "name": "stdout",
     "output_type": "stream",
     "text": [
      "Akurasi Model (Train) : 97.5 %\n",
      "Akurasi Model (Test)  : 86.36 %\n"
     ]
    }
   ],
   "source": [
    "print(f\"Akurasi Model (Train) : {np.round(accuracy_train_rf * 100,2)} %\")\n",
    "print(f\"Akurasi Model (Test)  : {np.round(accuracy_test_rf * 100,2)} %\")"
   ]
  },
  {
   "cell_type": "code",
   "execution_count": 264,
   "id": "216d2d72",
   "metadata": {},
   "outputs": [
    {
     "name": "stdout",
     "output_type": "stream",
     "text": [
      "Akurasi Model (Train) : 90.0 %\n",
      "Akurasi Model (Test)  : 86.36 %\n"
     ]
    }
   ],
   "source": [
    "print(f\"Akurasi Model (Train) : {np.round(accuracy_train_logres * 100,2)} %\")\n",
    "print(f\"Akurasi Model (Test)  : {np.round(accuracy_test_logres * 100,2)} %\")"
   ]
  },
  {
   "cell_type": "code",
   "execution_count": 270,
   "id": "bd59db12",
   "metadata": {},
   "outputs": [
    {
     "data": {
      "text/html": [
       "<div>\n",
       "<style scoped>\n",
       "    .dataframe tbody tr th:only-of-type {\n",
       "        vertical-align: middle;\n",
       "    }\n",
       "\n",
       "    .dataframe tbody tr th {\n",
       "        vertical-align: top;\n",
       "    }\n",
       "\n",
       "    .dataframe thead th {\n",
       "        text-align: right;\n",
       "    }\n",
       "</style>\n",
       "<table border=\"1\" class=\"dataframe\">\n",
       "  <thead>\n",
       "    <tr style=\"text-align: right;\">\n",
       "      <th></th>\n",
       "      <th>UmurBaduta</th>\n",
       "      <th>PBLahir</th>\n",
       "      <th>BBLahir</th>\n",
       "    </tr>\n",
       "  </thead>\n",
       "  <tbody>\n",
       "    <tr>\n",
       "      <th>0</th>\n",
       "      <td>3</td>\n",
       "      <td>50</td>\n",
       "      <td>4</td>\n",
       "    </tr>\n",
       "  </tbody>\n",
       "</table>\n",
       "</div>"
      ],
      "text/plain": [
       "   UmurBaduta  PBLahir  BBLahir\n",
       "0           3       50        4"
      ]
     },
     "execution_count": 270,
     "metadata": {},
     "output_type": "execute_result"
    }
   ],
   "source": [
    "df_test = pd.DataFrame(data={\n",
    "    \"UmurBaduta\" : [3],\n",
    "    \"PBLahir\"  : [50],\n",
    "    \"BBLahir\"  : [4]\n",
    "})\n",
    "\n",
    "df_test[0:1]"
   ]
  },
  {
   "cell_type": "code",
   "execution_count": 271,
   "id": "5855d1ec",
   "metadata": {},
   "outputs": [
    {
     "name": "stderr",
     "output_type": "stream",
     "text": [
      "C:\\Users\\Indah Wardatunizza\\anaconda3\\lib\\site-packages\\sklearn\\base.py:493: FutureWarning: The feature names should match those that were passed during fit. Starting version 1.2, an error will be raised.\n",
      "Feature names must be in the same order as they were in fit.\n",
      "\n",
      "  warnings.warn(message, FutureWarning)\n"
     ]
    },
    {
     "data": {
      "text/plain": [
       "'stunting'"
      ]
     },
     "execution_count": 271,
     "metadata": {},
     "output_type": "execute_result"
    }
   ],
   "source": [
    "pred_test = model.predict(df_test[0:1])\n",
    "pred_test[0]"
   ]
  },
  {
   "cell_type": "code",
   "execution_count": 272,
   "id": "15ab9d32",
   "metadata": {},
   "outputs": [
    {
     "name": "stdout",
     "output_type": "stream",
     "text": [
      "[[ 2 13]\n",
      " [ 2 93]]\n"
     ]
    }
   ],
   "source": [
    "y_pred = model.predict(x_test)\n",
    "cm = confusion_matrix(y_test, y_pred)\n",
    "print(cm)"
   ]
  },
  {
   "cell_type": "code",
   "execution_count": 273,
   "id": "3ed18ac7",
   "metadata": {},
   "outputs": [
    {
     "name": "stdout",
     "output_type": "stream",
     "text": [
      "                precision    recall  f1-score   support\n",
      "\n",
      "      stunting       0.50      0.13      0.21        15\n",
      "tidak stunting       0.88      0.98      0.93        95\n",
      "\n",
      "      accuracy                           0.86       110\n",
      "     macro avg       0.69      0.56      0.57       110\n",
      "  weighted avg       0.83      0.86      0.83       110\n",
      "\n"
     ]
    }
   ],
   "source": [
    "target_names = [\"stunting\", \"tidak stunting\"]\n",
    "print(classification_report(y_test, y_pred, target_names=target_names))"
   ]
  },
  {
   "cell_type": "code",
   "execution_count": null,
   "id": "e3b6f9ba",
   "metadata": {},
   "outputs": [],
   "source": []
  }
 ],
 "metadata": {
  "kernelspec": {
   "display_name": "Python 3 (ipykernel)",
   "language": "python",
   "name": "python3"
  },
  "language_info": {
   "codemirror_mode": {
    "name": "ipython",
    "version": 3
   },
   "file_extension": ".py",
   "mimetype": "text/x-python",
   "name": "python",
   "nbconvert_exporter": "python",
   "pygments_lexer": "ipython3",
   "version": "3.9.12"
  }
 },
 "nbformat": 4,
 "nbformat_minor": 5
}
