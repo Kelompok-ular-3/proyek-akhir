{
 "cells": [
  {
   "cell_type": "markdown",
   "id": "94503c03",
   "metadata": {},
   "source": [
    "## Import Library"
   ]
  },
  {
   "cell_type": "code",
   "execution_count": 33,
   "id": "2c6d5fd8",
   "metadata": {},
   "outputs": [],
   "source": [
    "import pandas as pd\n",
    "import seaborn as sns\n",
    "import numpy as np\n",
    "import matplotlib.pyplot as plt\n",
    "from sklearn.model_selection import train_test_split\n",
    "from sklearn.tree import DecisionTreeClassifier\n",
    "from sklearn.linear_model import LogisticRegression\n",
    "from sklearn.ensemble import RandomForestClassifier\n",
    "from sklearn.metrics import accuracy_score,precision_score,recall_score,confusion_matrix,classification_report\n",
    "\n",
    "import joblib"
   ]
  },
  {
   "cell_type": "markdown",
   "id": "15a7b121",
   "metadata": {},
   "source": [
    "## Import Dataset"
   ]
  },
  {
   "cell_type": "code",
   "execution_count": 34,
   "id": "bbefb456",
   "metadata": {},
   "outputs": [
    {
     "data": {
      "text/html": [
       "<div>\n",
       "<style scoped>\n",
       "    .dataframe tbody tr th:only-of-type {\n",
       "        vertical-align: middle;\n",
       "    }\n",
       "\n",
       "    .dataframe tbody tr th {\n",
       "        vertical-align: top;\n",
       "    }\n",
       "\n",
       "    .dataframe thead th {\n",
       "        text-align: right;\n",
       "    }\n",
       "</style>\n",
       "<table border=\"1\" class=\"dataframe\">\n",
       "  <thead>\n",
       "    <tr style=\"text-align: right;\">\n",
       "      <th></th>\n",
       "      <th>KodeSampel</th>\n",
       "      <th>NamaBaduta</th>\n",
       "      <th>JenisKelamin</th>\n",
       "      <th>TanggalLahir</th>\n",
       "      <th>UmurBaduta</th>\n",
       "      <th>AnakKe</th>\n",
       "      <th>JumlahAnak</th>\n",
       "      <th>BBLahir</th>\n",
       "      <th>PBLahir</th>\n",
       "      <th>TanggalUkur</th>\n",
       "      <th>...</th>\n",
       "      <th>MerkGaram</th>\n",
       "      <th>BeratGaram</th>\n",
       "      <th>HargaGaram</th>\n",
       "      <th>PmrksaanIodium</th>\n",
       "      <th>VAR00001</th>\n",
       "      <th>VAR00002</th>\n",
       "      <th>VAR00003</th>\n",
       "      <th>VAR00004</th>\n",
       "      <th>VAR00005</th>\n",
       "      <th>Status</th>\n",
       "    </tr>\n",
       "  </thead>\n",
       "  <tbody>\n",
       "    <tr>\n",
       "      <th>0</th>\n",
       "      <td>1101.0</td>\n",
       "      <td>Hana Nur Azizah</td>\n",
       "      <td>2.0</td>\n",
       "      <td>2018-07-16 00:00:00</td>\n",
       "      <td>8.0</td>\n",
       "      <td>1.0</td>\n",
       "      <td>1.0</td>\n",
       "      <td>3.0</td>\n",
       "      <td>50.0</td>\n",
       "      <td>2019-04-10 00:00:00</td>\n",
       "      <td>...</td>\n",
       "      <td>Daun</td>\n",
       "      <td>250.0</td>\n",
       "      <td>2500.0</td>\n",
       "      <td>1.0</td>\n",
       "      <td>1.0</td>\n",
       "      <td>1.0</td>\n",
       "      <td>2.0</td>\n",
       "      <td>2.0</td>\n",
       "      <td>1.0</td>\n",
       "      <td>tidak stunting</td>\n",
       "    </tr>\n",
       "    <tr>\n",
       "      <th>1</th>\n",
       "      <td>1102.0</td>\n",
       "      <td>Aqila Shakuena Humaira</td>\n",
       "      <td>2.0</td>\n",
       "      <td>2018-03-13 00:00:00</td>\n",
       "      <td>13.0</td>\n",
       "      <td>1.0</td>\n",
       "      <td>1.0</td>\n",
       "      <td>2.5</td>\n",
       "      <td>47.0</td>\n",
       "      <td>2019-04-10 00:00:00</td>\n",
       "      <td>...</td>\n",
       "      <td>Daun</td>\n",
       "      <td>250.0</td>\n",
       "      <td>2500.0</td>\n",
       "      <td>1.0</td>\n",
       "      <td>2.0</td>\n",
       "      <td>2.0</td>\n",
       "      <td>1.0</td>\n",
       "      <td>1.0</td>\n",
       "      <td>2.0</td>\n",
       "      <td>tidak stunting</td>\n",
       "    </tr>\n",
       "    <tr>\n",
       "      <th>2</th>\n",
       "      <td>1103.0</td>\n",
       "      <td>Altan Artanabil Setiawan</td>\n",
       "      <td>1.0</td>\n",
       "      <td>2018-07-09 00:00:00</td>\n",
       "      <td>9.0</td>\n",
       "      <td>2.0</td>\n",
       "      <td>2.0</td>\n",
       "      <td>3.4</td>\n",
       "      <td>50.0</td>\n",
       "      <td>2019-04-10 00:00:00</td>\n",
       "      <td>...</td>\n",
       "      <td>Daun</td>\n",
       "      <td>250.0</td>\n",
       "      <td>2500.0</td>\n",
       "      <td>1.0</td>\n",
       "      <td>1.0</td>\n",
       "      <td>1.0</td>\n",
       "      <td>1.0</td>\n",
       "      <td>2.0</td>\n",
       "      <td>1.0</td>\n",
       "      <td>stunting</td>\n",
       "    </tr>\n",
       "    <tr>\n",
       "      <th>3</th>\n",
       "      <td>1104.0</td>\n",
       "      <td>Adrian Pradita Maspuri</td>\n",
       "      <td>1.0</td>\n",
       "      <td>2017-05-25 00:00:00</td>\n",
       "      <td>23.0</td>\n",
       "      <td>1.0</td>\n",
       "      <td>1.0</td>\n",
       "      <td>2.1</td>\n",
       "      <td>39.0</td>\n",
       "      <td>2019-04-10 00:00:00</td>\n",
       "      <td>...</td>\n",
       "      <td>Daun</td>\n",
       "      <td>250.0</td>\n",
       "      <td>2500.0</td>\n",
       "      <td>1.0</td>\n",
       "      <td>2.0</td>\n",
       "      <td>2.0</td>\n",
       "      <td>2.0</td>\n",
       "      <td>2.0</td>\n",
       "      <td>1.0</td>\n",
       "      <td>tidak stunting</td>\n",
       "    </tr>\n",
       "    <tr>\n",
       "      <th>4</th>\n",
       "      <td>1105.0</td>\n",
       "      <td>Yaqis Hagata</td>\n",
       "      <td>1.0</td>\n",
       "      <td>2018-06-28 00:00:00</td>\n",
       "      <td>8.0</td>\n",
       "      <td>3.0</td>\n",
       "      <td>3.0</td>\n",
       "      <td>2.9</td>\n",
       "      <td>45.0</td>\n",
       "      <td>2019-04-10 00:00:00</td>\n",
       "      <td>...</td>\n",
       "      <td>Daun</td>\n",
       "      <td>250.0</td>\n",
       "      <td>2500.0</td>\n",
       "      <td>1.0</td>\n",
       "      <td>1.0</td>\n",
       "      <td>1.0</td>\n",
       "      <td>1.0</td>\n",
       "      <td>1.0</td>\n",
       "      <td>2.0</td>\n",
       "      <td>tidak stunting</td>\n",
       "    </tr>\n",
       "  </tbody>\n",
       "</table>\n",
       "<p>5 rows × 172 columns</p>\n",
       "</div>"
      ],
      "text/plain": [
       "   KodeSampel                NamaBaduta  JenisKelamin         TanggalLahir  \\\n",
       "0      1101.0           Hana Nur Azizah           2.0  2018-07-16 00:00:00   \n",
       "1      1102.0    Aqila Shakuena Humaira           2.0  2018-03-13 00:00:00   \n",
       "2      1103.0  Altan Artanabil Setiawan           1.0  2018-07-09 00:00:00   \n",
       "3      1104.0    Adrian Pradita Maspuri           1.0  2017-05-25 00:00:00   \n",
       "4      1105.0              Yaqis Hagata           1.0  2018-06-28 00:00:00   \n",
       "\n",
       "   UmurBaduta  AnakKe  JumlahAnak  BBLahir  PBLahir          TanggalUkur  ...  \\\n",
       "0         8.0     1.0         1.0      3.0     50.0  2019-04-10 00:00:00  ...   \n",
       "1        13.0     1.0         1.0      2.5     47.0  2019-04-10 00:00:00  ...   \n",
       "2         9.0     2.0         2.0      3.4     50.0  2019-04-10 00:00:00  ...   \n",
       "3        23.0     1.0         1.0      2.1     39.0  2019-04-10 00:00:00  ...   \n",
       "4         8.0     3.0         3.0      2.9     45.0  2019-04-10 00:00:00  ...   \n",
       "\n",
       "   MerkGaram  BeratGaram  HargaGaram  PmrksaanIodium  VAR00001  VAR00002  \\\n",
       "0       Daun       250.0      2500.0             1.0       1.0       1.0   \n",
       "1       Daun       250.0      2500.0             1.0       2.0       2.0   \n",
       "2       Daun       250.0      2500.0             1.0       1.0       1.0   \n",
       "3       Daun       250.0      2500.0             1.0       2.0       2.0   \n",
       "4       Daun       250.0      2500.0             1.0       1.0       1.0   \n",
       "\n",
       "   VAR00003  VAR00004  VAR00005          Status  \n",
       "0       2.0       2.0       1.0  tidak stunting  \n",
       "1       1.0       1.0       2.0  tidak stunting  \n",
       "2       1.0       2.0       1.0        stunting  \n",
       "3       2.0       2.0       1.0  tidak stunting  \n",
       "4       1.0       1.0       2.0  tidak stunting  \n",
       "\n",
       "[5 rows x 172 columns]"
      ]
     },
     "execution_count": 34,
     "metadata": {},
     "output_type": "execute_result"
    }
   ],
   "source": [
    "path_to_data = \"D:/0 Orbit Proyek Akhir/BADUTA-BATITA KEMRANJEN.xlsx\" # Path to the Excel file\n",
    "dataset = pd.read_excel(path_to_data)\n",
    "dataset.head()"
   ]
  },
  {
   "cell_type": "markdown",
   "id": "36241c2e",
   "metadata": {},
   "source": [
    "## Exploratory Data Analysis (EDA)"
   ]
  },
  {
   "cell_type": "code",
   "execution_count": 35,
   "id": "ab9489cf",
   "metadata": {},
   "outputs": [
    {
     "name": "stdout",
     "output_type": "stream",
     "text": [
      "<class 'pandas.core.frame.DataFrame'>\n",
      "RangeIndex: 557 entries, 0 to 556\n",
      "Columns: 172 entries, KodeSampel to Status\n",
      "dtypes: float64(155), object(17)\n",
      "memory usage: 748.6+ KB\n"
     ]
    }
   ],
   "source": [
    "dataset.info()"
   ]
  },
  {
   "cell_type": "code",
   "execution_count": 36,
   "id": "92be8571",
   "metadata": {},
   "outputs": [
    {
     "data": {
      "text/html": [
       "<div>\n",
       "<style scoped>\n",
       "    .dataframe tbody tr th:only-of-type {\n",
       "        vertical-align: middle;\n",
       "    }\n",
       "\n",
       "    .dataframe tbody tr th {\n",
       "        vertical-align: top;\n",
       "    }\n",
       "\n",
       "    .dataframe thead th {\n",
       "        text-align: right;\n",
       "    }\n",
       "</style>\n",
       "<table border=\"1\" class=\"dataframe\">\n",
       "  <thead>\n",
       "    <tr style=\"text-align: right;\">\n",
       "      <th></th>\n",
       "      <th>UmurBaduta</th>\n",
       "      <th>PBSekarang</th>\n",
       "      <th>BBSekarang</th>\n",
       "      <th>Status</th>\n",
       "    </tr>\n",
       "  </thead>\n",
       "  <tbody>\n",
       "    <tr>\n",
       "      <th>0</th>\n",
       "      <td>8.0</td>\n",
       "      <td>60.3</td>\n",
       "      <td>8.3</td>\n",
       "      <td>tidak stunting</td>\n",
       "    </tr>\n",
       "    <tr>\n",
       "      <th>1</th>\n",
       "      <td>13.0</td>\n",
       "      <td>80.1</td>\n",
       "      <td>9.7</td>\n",
       "      <td>tidak stunting</td>\n",
       "    </tr>\n",
       "    <tr>\n",
       "      <th>2</th>\n",
       "      <td>9.0</td>\n",
       "      <td>75.0</td>\n",
       "      <td>8.6</td>\n",
       "      <td>stunting</td>\n",
       "    </tr>\n",
       "    <tr>\n",
       "      <th>3</th>\n",
       "      <td>23.0</td>\n",
       "      <td>87.0</td>\n",
       "      <td>11.0</td>\n",
       "      <td>tidak stunting</td>\n",
       "    </tr>\n",
       "    <tr>\n",
       "      <th>4</th>\n",
       "      <td>8.0</td>\n",
       "      <td>86.3</td>\n",
       "      <td>8.1</td>\n",
       "      <td>tidak stunting</td>\n",
       "    </tr>\n",
       "    <tr>\n",
       "      <th>...</th>\n",
       "      <td>...</td>\n",
       "      <td>...</td>\n",
       "      <td>...</td>\n",
       "      <td>...</td>\n",
       "    </tr>\n",
       "    <tr>\n",
       "      <th>552</th>\n",
       "      <td>10.0</td>\n",
       "      <td>71.0</td>\n",
       "      <td>8.1</td>\n",
       "      <td>tidak stunting</td>\n",
       "    </tr>\n",
       "    <tr>\n",
       "      <th>553</th>\n",
       "      <td>17.0</td>\n",
       "      <td>80.2</td>\n",
       "      <td>12.3</td>\n",
       "      <td>tidak stunting</td>\n",
       "    </tr>\n",
       "    <tr>\n",
       "      <th>554</th>\n",
       "      <td>7.0</td>\n",
       "      <td>72.3</td>\n",
       "      <td>78.0</td>\n",
       "      <td>tidak stunting</td>\n",
       "    </tr>\n",
       "    <tr>\n",
       "      <th>555</th>\n",
       "      <td>7.0</td>\n",
       "      <td>71.0</td>\n",
       "      <td>9.9</td>\n",
       "      <td>tidak stunting</td>\n",
       "    </tr>\n",
       "    <tr>\n",
       "      <th>556</th>\n",
       "      <td>11.0</td>\n",
       "      <td>75.0</td>\n",
       "      <td>7.8</td>\n",
       "      <td>stunting</td>\n",
       "    </tr>\n",
       "  </tbody>\n",
       "</table>\n",
       "<p>557 rows × 4 columns</p>\n",
       "</div>"
      ],
      "text/plain": [
       "     UmurBaduta  PBSekarang  BBSekarang          Status\n",
       "0           8.0        60.3         8.3  tidak stunting\n",
       "1          13.0        80.1         9.7  tidak stunting\n",
       "2           9.0        75.0         8.6        stunting\n",
       "3          23.0        87.0        11.0  tidak stunting\n",
       "4           8.0        86.3         8.1  tidak stunting\n",
       "..          ...         ...         ...             ...\n",
       "552        10.0        71.0         8.1  tidak stunting\n",
       "553        17.0        80.2        12.3  tidak stunting\n",
       "554         7.0        72.3        78.0  tidak stunting\n",
       "555         7.0        71.0         9.9  tidak stunting\n",
       "556        11.0        75.0         7.8        stunting\n",
       "\n",
       "[557 rows x 4 columns]"
      ]
     },
     "execution_count": 36,
     "metadata": {},
     "output_type": "execute_result"
    }
   ],
   "source": [
    "dataset = dataset[[\"UmurBaduta\", \"PBSekarang\", \"BBSekarang\", \"Status\"]]\n",
    "dataset"
   ]
  },
  {
   "cell_type": "code",
   "execution_count": 37,
   "id": "5eec05c6",
   "metadata": {},
   "outputs": [
    {
     "name": "stdout",
     "output_type": "stream",
     "text": [
      "<class 'pandas.core.frame.DataFrame'>\n",
      "RangeIndex: 557 entries, 0 to 556\n",
      "Data columns (total 4 columns):\n",
      " #   Column      Non-Null Count  Dtype  \n",
      "---  ------      --------------  -----  \n",
      " 0   UmurBaduta  550 non-null    float64\n",
      " 1   PBSekarang  550 non-null    float64\n",
      " 2   BBSekarang  550 non-null    float64\n",
      " 3   Status      550 non-null    object \n",
      "dtypes: float64(3), object(1)\n",
      "memory usage: 17.5+ KB\n"
     ]
    }
   ],
   "source": [
    "dataset.info()"
   ]
  },
  {
   "cell_type": "code",
   "execution_count": 38,
   "id": "8dc294ad",
   "metadata": {},
   "outputs": [
    {
     "data": {
      "text/html": [
       "<div>\n",
       "<style scoped>\n",
       "    .dataframe tbody tr th:only-of-type {\n",
       "        vertical-align: middle;\n",
       "    }\n",
       "\n",
       "    .dataframe tbody tr th {\n",
       "        vertical-align: top;\n",
       "    }\n",
       "\n",
       "    .dataframe thead th {\n",
       "        text-align: right;\n",
       "    }\n",
       "</style>\n",
       "<table border=\"1\" class=\"dataframe\">\n",
       "  <thead>\n",
       "    <tr style=\"text-align: right;\">\n",
       "      <th></th>\n",
       "      <th>UmurBaduta</th>\n",
       "      <th>PBSekarang</th>\n",
       "      <th>BBSekarang</th>\n",
       "    </tr>\n",
       "  </thead>\n",
       "  <tbody>\n",
       "    <tr>\n",
       "      <th>count</th>\n",
       "      <td>550.000000</td>\n",
       "      <td>550.000000</td>\n",
       "      <td>550.000000</td>\n",
       "    </tr>\n",
       "    <tr>\n",
       "      <th>mean</th>\n",
       "      <td>13.707273</td>\n",
       "      <td>77.590000</td>\n",
       "      <td>9.672091</td>\n",
       "    </tr>\n",
       "    <tr>\n",
       "      <th>std</th>\n",
       "      <td>7.384554</td>\n",
       "      <td>31.765915</td>\n",
       "      <td>5.640462</td>\n",
       "    </tr>\n",
       "    <tr>\n",
       "      <th>min</th>\n",
       "      <td>1.000000</td>\n",
       "      <td>60.000000</td>\n",
       "      <td>5.500000</td>\n",
       "    </tr>\n",
       "    <tr>\n",
       "      <th>25%</th>\n",
       "      <td>8.250000</td>\n",
       "      <td>71.000000</td>\n",
       "      <td>8.200000</td>\n",
       "    </tr>\n",
       "    <tr>\n",
       "      <th>50%</th>\n",
       "      <td>13.000000</td>\n",
       "      <td>75.700000</td>\n",
       "      <td>9.300000</td>\n",
       "    </tr>\n",
       "    <tr>\n",
       "      <th>75%</th>\n",
       "      <td>20.000000</td>\n",
       "      <td>81.000000</td>\n",
       "      <td>10.300000</td>\n",
       "    </tr>\n",
       "    <tr>\n",
       "      <th>max</th>\n",
       "      <td>37.000000</td>\n",
       "      <td>803.000000</td>\n",
       "      <td>116.000000</td>\n",
       "    </tr>\n",
       "  </tbody>\n",
       "</table>\n",
       "</div>"
      ],
      "text/plain": [
       "       UmurBaduta  PBSekarang  BBSekarang\n",
       "count  550.000000  550.000000  550.000000\n",
       "mean    13.707273   77.590000    9.672091\n",
       "std      7.384554   31.765915    5.640462\n",
       "min      1.000000   60.000000    5.500000\n",
       "25%      8.250000   71.000000    8.200000\n",
       "50%     13.000000   75.700000    9.300000\n",
       "75%     20.000000   81.000000   10.300000\n",
       "max     37.000000  803.000000  116.000000"
      ]
     },
     "execution_count": 38,
     "metadata": {},
     "output_type": "execute_result"
    }
   ],
   "source": [
    "dataset.describe()"
   ]
  },
  {
   "cell_type": "code",
   "execution_count": 39,
   "id": "f175c436",
   "metadata": {},
   "outputs": [
    {
     "data": {
      "text/plain": [
       "UmurBaduta    7\n",
       "PBSekarang    7\n",
       "BBSekarang    7\n",
       "Status        7\n",
       "dtype: int64"
      ]
     },
     "execution_count": 39,
     "metadata": {},
     "output_type": "execute_result"
    }
   ],
   "source": [
    "dataset.isna().sum()"
   ]
  },
  {
   "cell_type": "code",
   "execution_count": 40,
   "id": "580a07de",
   "metadata": {},
   "outputs": [],
   "source": [
    "dataset.dropna(inplace = True)"
   ]
  },
  {
   "cell_type": "code",
   "execution_count": 41,
   "id": "6c7d8c2d",
   "metadata": {},
   "outputs": [
    {
     "data": {
      "text/plain": [
       "UmurBaduta    0\n",
       "PBSekarang    0\n",
       "BBSekarang    0\n",
       "Status        0\n",
       "dtype: int64"
      ]
     },
     "execution_count": 41,
     "metadata": {},
     "output_type": "execute_result"
    }
   ],
   "source": [
    "dataset.isna().sum()"
   ]
  },
  {
   "cell_type": "code",
   "execution_count": 42,
   "id": "e34b8412",
   "metadata": {},
   "outputs": [
    {
     "data": {
      "text/plain": [
       "tidak stunting    491\n",
       "stunting           59\n",
       "Name: Status, dtype: int64"
      ]
     },
     "execution_count": 42,
     "metadata": {},
     "output_type": "execute_result"
    }
   ],
   "source": [
    "dataset[\"Status\"].value_counts()"
   ]
  },
  {
   "cell_type": "code",
   "execution_count": 43,
   "id": "5c5638db",
   "metadata": {},
   "outputs": [
    {
     "data": {
      "text/plain": [
       "<AxesSubplot:xlabel='Status', ylabel='count'>"
      ]
     },
     "execution_count": 43,
     "metadata": {},
     "output_type": "execute_result"
    },
    {
     "data": {
      "image/png": "[encoded data removed]",
      "text/plain": [
       "<Figure size 432x288 with 1 Axes>"
      ]
     },
     "metadata": {
      "needs_background": "light"
     },
     "output_type": "display_data"
    }
   ],
   "source": [
    "sns.countplot(x='Status', data=dataset)"
   ]
  },
  {
   "cell_type": "code",
   "execution_count": 44,
   "id": "de3ce399",
   "metadata": {},
   "outputs": [
    {
     "data": {
      "text/plain": [
       "<AxesSubplot:xlabel='Status', ylabel='BBSekarang'>"
      ]
     },
     "execution_count": 44,
     "metadata": {},
     "output_type": "execute_result"
    },
    {
     "data": {
      "image/png": "[encoded data removed]",
      "text/plain": [
       "<Figure size 432x288 with 1 Axes>"
      ]
     },
     "metadata": {
      "needs_background": "light"
     },
     "output_type": "display_data"
    }
   ],
   "source": [
    "sns.barplot(x='Status', y='BBSekarang', data=dataset, ci=None)"
   ]
  },
  {
   "cell_type": "code",
   "execution_count": 45,
   "id": "4801d2b7",
   "metadata": {},
   "outputs": [
    {
     "data": {
      "text/plain": [
       "<AxesSubplot:xlabel='Status', ylabel='PBSekarang'>"
      ]
     },
     "execution_count": 45,
     "metadata": {},
     "output_type": "execute_result"
    },
    {
     "data": {
      "image/png": "[encoded data removed]",
      "text/plain": [
       "<Figure size 432x288 with 1 Axes>"
      ]
     },
     "metadata": {
      "needs_background": "light"
     },
     "output_type": "display_data"
    }
   ],
   "source": [
    "sns.barplot(x='Status', y='PBSekarang', data=dataset, ci=None)"
   ]
  },
  {
   "cell_type": "code",
   "execution_count": 46,
   "id": "8761c63c",
   "metadata": {},
   "outputs": [
    {
     "data": {
      "text/plain": [
       "<AxesSubplot:xlabel='Status', ylabel='UmurBaduta'>"
      ]
     },
     "execution_count": 46,
     "metadata": {},
     "output_type": "execute_result"
    },
    {
     "data": {
      "image/png": "[encoded data removed]",
      "text/plain": [
       "<Figure size 432x288 with 1 Axes>"
      ]
     },
     "metadata": {
      "needs_background": "light"
     },
     "output_type": "display_data"
    }
   ],
   "source": [
    "sns.stripplot(x='Status', y='UmurBaduta', data=dataset)"
   ]
  },
  {
   "cell_type": "code",
   "execution_count": 47,
   "id": "db9a220d",
   "metadata": {},
   "outputs": [
    {
     "data": {
      "text/plain": [
       "<seaborn.axisgrid.FacetGrid at 0x2033ee01fd0>"
      ]
     },
     "execution_count": 47,
     "metadata": {},
     "output_type": "execute_result"
    },
    {
     "data": {
      "image/png": "[encoded data removed]",
      "text/plain": [
       "<Figure size 465.5x360 with 1 Axes>"
      ]
     },
     "metadata": {
      "needs_background": "light"
     },
     "output_type": "display_data"
    }
   ],
   "source": [
    "sns.displot(data=dataset, x=\"BBSekarang\", hue=\"Status\", multiple=\"stack\", kind=\"kde\")"
   ]
  },
  {
   "cell_type": "code",
   "execution_count": 48,
   "id": "0004b354",
   "metadata": {},
   "outputs": [
    {
     "data": {
      "text/plain": [
       "<seaborn.axisgrid.FacetGrid at 0x2033edc78e0>"
      ]
     },
     "execution_count": 48,
     "metadata": {},
     "output_type": "execute_result"
    },
    {
     "data": {
      "image/png": "[encoded data removed]",
      "text/plain": [
       "<Figure size 465.5x360 with 1 Axes>"
      ]
     },
     "metadata": {
      "needs_background": "light"
     },
     "output_type": "display_data"
    }
   ],
   "source": [
    "sns.displot(data=dataset, x=\"PBSekarang\", hue=\"Status\", multiple=\"stack\", kind=\"kde\")"
   ]
  },
  {
   "cell_type": "markdown",
   "id": "52e37d01",
   "metadata": {},
   "source": [
    "## Training Model"
   ]
  },
  {
   "cell_type": "code",
   "execution_count": 49,
   "id": "3b86b6b8",
   "metadata": {},
   "outputs": [],
   "source": [
    "x = dataset.iloc[:, :-1]\n",
    "y = dataset.iloc[:, -1]"
   ]
  },
  {
   "cell_type": "code",
   "execution_count": 50,
   "id": "98fd3855",
   "metadata": {},
   "outputs": [
    {
     "data": {
      "text/html": [
       "<div>\n",
       "<style scoped>\n",
       "    .dataframe tbody tr th:only-of-type {\n",
       "        vertical-align: middle;\n",
       "    }\n",
       "\n",
       "    .dataframe tbody tr th {\n",
       "        vertical-align: top;\n",
       "    }\n",
       "\n",
       "    .dataframe thead th {\n",
       "        text-align: right;\n",
       "    }\n",
       "</style>\n",
       "<table border=\"1\" class=\"dataframe\">\n",
       "  <thead>\n",
       "    <tr style=\"text-align: right;\">\n",
       "      <th></th>\n",
       "      <th>UmurBaduta</th>\n",
       "      <th>PBSekarang</th>\n",
       "      <th>BBSekarang</th>\n",
       "    </tr>\n",
       "  </thead>\n",
       "  <tbody>\n",
       "    <tr>\n",
       "      <th>0</th>\n",
       "      <td>8.0</td>\n",
       "      <td>60.3</td>\n",
       "      <td>8.3</td>\n",
       "    </tr>\n",
       "    <tr>\n",
       "      <th>1</th>\n",
       "      <td>13.0</td>\n",
       "      <td>80.1</td>\n",
       "      <td>9.7</td>\n",
       "    </tr>\n",
       "    <tr>\n",
       "      <th>2</th>\n",
       "      <td>9.0</td>\n",
       "      <td>75.0</td>\n",
       "      <td>8.6</td>\n",
       "    </tr>\n",
       "    <tr>\n",
       "      <th>3</th>\n",
       "      <td>23.0</td>\n",
       "      <td>87.0</td>\n",
       "      <td>11.0</td>\n",
       "    </tr>\n",
       "    <tr>\n",
       "      <th>4</th>\n",
       "      <td>8.0</td>\n",
       "      <td>86.3</td>\n",
       "      <td>8.1</td>\n",
       "    </tr>\n",
       "    <tr>\n",
       "      <th>...</th>\n",
       "      <td>...</td>\n",
       "      <td>...</td>\n",
       "      <td>...</td>\n",
       "    </tr>\n",
       "    <tr>\n",
       "      <th>552</th>\n",
       "      <td>10.0</td>\n",
       "      <td>71.0</td>\n",
       "      <td>8.1</td>\n",
       "    </tr>\n",
       "    <tr>\n",
       "      <th>553</th>\n",
       "      <td>17.0</td>\n",
       "      <td>80.2</td>\n",
       "      <td>12.3</td>\n",
       "    </tr>\n",
       "    <tr>\n",
       "      <th>554</th>\n",
       "      <td>7.0</td>\n",
       "      <td>72.3</td>\n",
       "      <td>78.0</td>\n",
       "    </tr>\n",
       "    <tr>\n",
       "      <th>555</th>\n",
       "      <td>7.0</td>\n",
       "      <td>71.0</td>\n",
       "      <td>9.9</td>\n",
       "    </tr>\n",
       "    <tr>\n",
       "      <th>556</th>\n",
       "      <td>11.0</td>\n",
       "      <td>75.0</td>\n",
       "      <td>7.8</td>\n",
       "    </tr>\n",
       "  </tbody>\n",
       "</table>\n",
       "<p>550 rows × 3 columns</p>\n",
       "</div>"
      ],
      "text/plain": [
       "     UmurBaduta  PBSekarang  BBSekarang\n",
       "0           8.0        60.3         8.3\n",
       "1          13.0        80.1         9.7\n",
       "2           9.0        75.0         8.6\n",
       "3          23.0        87.0        11.0\n",
       "4           8.0        86.3         8.1\n",
       "..          ...         ...         ...\n",
       "552        10.0        71.0         8.1\n",
       "553        17.0        80.2        12.3\n",
       "554         7.0        72.3        78.0\n",
       "555         7.0        71.0         9.9\n",
       "556        11.0        75.0         7.8\n",
       "\n",
       "[550 rows x 3 columns]"
      ]
     },
     "execution_count": 50,
     "metadata": {},
     "output_type": "execute_result"
    }
   ],
   "source": [
    "x"
   ]
  },
  {
   "cell_type": "code",
   "execution_count": 51,
   "id": "8b8b56e9",
   "metadata": {},
   "outputs": [
    {
     "data": {
      "text/plain": [
       "0      tidak stunting\n",
       "1      tidak stunting\n",
       "2            stunting\n",
       "3      tidak stunting\n",
       "4      tidak stunting\n",
       "            ...      \n",
       "552    tidak stunting\n",
       "553    tidak stunting\n",
       "554    tidak stunting\n",
       "555    tidak stunting\n",
       "556          stunting\n",
       "Name: Status, Length: 550, dtype: object"
      ]
     },
     "execution_count": 51,
     "metadata": {},
     "output_type": "execute_result"
    }
   ],
   "source": [
    "y"
   ]
  },
  {
   "cell_type": "code",
   "execution_count": 52,
   "id": "987442cc",
   "metadata": {},
   "outputs": [],
   "source": [
    "x_train, x_test, y_train, y_test = train_test_split(x, y, test_size=0.20)"
   ]
  },
  {
   "cell_type": "code",
   "execution_count": 53,
   "id": "87a97f1e",
   "metadata": {},
   "outputs": [],
   "source": [
    "model_dt = DecisionTreeClassifier(criterion=\"entropy\", random_state=0, max_depth=20)\n",
    "model_rf = RandomForestClassifier(max_depth=20, random_state=0)\n",
    "model_logres = LogisticRegression(random_state=0)\n",
    "model_dt = model_dt.fit(x_train, y_train)\n",
    "model_rf = model_rf.fit(x_train, y_train)\n",
    "model_logres = model_logres.fit(x_train, y_train)"
   ]
  },
  {
   "cell_type": "markdown",
   "id": "4f013597",
   "metadata": {},
   "source": [
    "## Evaluasi Model"
   ]
  },
  {
   "cell_type": "code",
   "execution_count": 54,
   "id": "201b483c",
   "metadata": {},
   "outputs": [],
   "source": [
    "accuracy_train_dt = model_dt.score(x_train, y_train)\n",
    "accuracy_test_dt  = model_dt.score(x_test, y_test)\n",
    "accuracy_train_rf = model_rf.score(x_train, y_train)\n",
    "accuracy_test_rf  = model_rf.score(x_test, y_test)\n",
    "accuracy_train_logres = model_logres.score(x_train, y_train)\n",
    "accuracy_test_logres  = model_logres.score(x_test, y_test)"
   ]
  },
  {
   "cell_type": "code",
   "execution_count": 55,
   "id": "89b2dfb2",
   "metadata": {},
   "outputs": [
    {
     "name": "stdout",
     "output_type": "stream",
     "text": [
      "Akurasi Model (Train) : 100.0 %\n",
      "Akurasi Model (Test)  : 91.82 %\n"
     ]
    }
   ],
   "source": [
    "print(f\"Akurasi Model (Train) : {np.round(accuracy_train_dt * 100,2)} %\")\n",
    "print(f\"Akurasi Model (Test)  : {np.round(accuracy_test_dt * 100,2)} %\")"
   ]
  },
  {
   "cell_type": "code",
   "execution_count": 56,
   "id": "0ba2f657",
   "metadata": {},
   "outputs": [
    {
     "name": "stdout",
     "output_type": "stream",
     "text": [
      "Akurasi Model (Train) : 100.0 %\n",
      "Akurasi Model (Test)  : 92.73 %\n"
     ]
    }
   ],
   "source": [
    "print(f\"Akurasi Model (Train) : {np.round(accuracy_train_rf * 100,2)} %\")\n",
    "print(f\"Akurasi Model (Test)  : {np.round(accuracy_test_rf * 100,2)} %\")"
   ]
  },
  {
   "cell_type": "code",
   "execution_count": 57,
   "id": "3e02c45a",
   "metadata": {},
   "outputs": [
    {
     "name": "stdout",
     "output_type": "stream",
     "text": [
      "Akurasi Model (Train) : 88.64 %\n",
      "Akurasi Model (Test)  : 91.82 %\n"
     ]
    }
   ],
   "source": [
    "print(f\"Akurasi Model (Train) : {np.round(accuracy_train_logres * 100,2)} %\")\n",
    "print(f\"Akurasi Model (Test)  : {np.round(accuracy_test_logres * 100,2)} %\")"
   ]
  },
  {
   "cell_type": "code",
   "execution_count": 58,
   "id": "90ce6da2",
   "metadata": {},
   "outputs": [
    {
     "data": {
      "text/html": [
       "<div>\n",
       "<style scoped>\n",
       "    .dataframe tbody tr th:only-of-type {\n",
       "        vertical-align: middle;\n",
       "    }\n",
       "\n",
       "    .dataframe tbody tr th {\n",
       "        vertical-align: top;\n",
       "    }\n",
       "\n",
       "    .dataframe thead th {\n",
       "        text-align: right;\n",
       "    }\n",
       "</style>\n",
       "<table border=\"1\" class=\"dataframe\">\n",
       "  <thead>\n",
       "    <tr style=\"text-align: right;\">\n",
       "      <th></th>\n",
       "      <th>UmurBaduta</th>\n",
       "      <th>PB Sekarang</th>\n",
       "      <th>BB Sekarang</th>\n",
       "    </tr>\n",
       "  </thead>\n",
       "  <tbody>\n",
       "    <tr>\n",
       "      <th>0</th>\n",
       "      <td>3</td>\n",
       "      <td>50</td>\n",
       "      <td>4</td>\n",
       "    </tr>\n",
       "  </tbody>\n",
       "</table>\n",
       "</div>"
      ],
      "text/plain": [
       "   UmurBaduta  PB Sekarang  BB Sekarang\n",
       "0           3           50            4"
      ]
     },
     "execution_count": 58,
     "metadata": {},
     "output_type": "execute_result"
    }
   ],
   "source": [
    "df_test = pd.DataFrame(data={\n",
    "    \"UmurBaduta\" : [3],\n",
    "    \"PB Sekarang\"  : [50],\n",
    "    \"BB Sekarang\"  : [4]\n",
    "})\n",
    "\n",
    "df_test[0:1]"
   ]
  },
  {
   "cell_type": "code",
   "execution_count": 59,
   "id": "a8315417",
   "metadata": {},
   "outputs": [
    {
     "name": "stderr",
     "output_type": "stream",
     "text": [
      "C:\\Users\\Indah Wardatunizza\\anaconda3\\lib\\site-packages\\sklearn\\base.py:493: FutureWarning: The feature names should match those that were passed during fit. Starting version 1.2, an error will be raised.\n",
      "Feature names unseen at fit time:\n",
      "- BB Sekarang\n",
      "- PB Sekarang\n",
      "Feature names seen at fit time, yet now missing:\n",
      "- BBSekarang\n",
      "- PBSekarang\n",
      "\n",
      "  warnings.warn(message, FutureWarning)\n"
     ]
    },
    {
     "data": {
      "text/plain": [
       "'tidak stunting'"
      ]
     },
     "execution_count": 59,
     "metadata": {},
     "output_type": "execute_result"
    }
   ],
   "source": [
    "pred_test = model_rf.predict(df_test[0:1])\n",
    "pred_test[0]"
   ]
  },
  {
   "cell_type": "code",
   "execution_count": 60,
   "id": "515c8996",
   "metadata": {},
   "outputs": [
    {
     "name": "stdout",
     "output_type": "stream",
     "text": [
      "[[ 3  6]\n",
      " [ 2 99]]\n"
     ]
    }
   ],
   "source": [
    "y_pred = model_rf.predict(x_test)\n",
    "cm = confusion_matrix(y_test, y_pred)\n",
    "print(cm)"
   ]
  },
  {
   "cell_type": "code",
   "execution_count": 61,
   "id": "99c8e7d7",
   "metadata": {},
   "outputs": [
    {
     "name": "stdout",
     "output_type": "stream",
     "text": [
      "                precision    recall  f1-score   support\n",
      "\n",
      "      stunting       0.60      0.33      0.43         9\n",
      "tidak stunting       0.94      0.98      0.96       101\n",
      "\n",
      "      accuracy                           0.93       110\n",
      "     macro avg       0.77      0.66      0.69       110\n",
      "  weighted avg       0.91      0.93      0.92       110\n",
      "\n"
     ]
    }
   ],
   "source": [
    "target_names = [\"stunting\", \"tidak stunting\"]\n",
    "print(classification_report(y_test, y_pred, target_names=target_names))"
   ]
  },
  {
   "cell_type": "markdown",
   "id": "713a59bf",
   "metadata": {},
   "source": [
    "## Save Model"
   ]
  },
  {
   "cell_type": "code",
   "execution_count": 62,
   "id": "c44bcc64",
   "metadata": {},
   "outputs": [
    {
     "data": {
      "text/plain": [
       "['D:/0 Orbit Proyek Akhir/model_rf.model']"
      ]
     },
     "execution_count": 62,
     "metadata": {},
     "output_type": "execute_result"
    }
   ],
   "source": [
    "joblib.dump((model_rf), \"D:/0 Orbit Proyek Akhir/model_rf.model\")"
   ]
  },
  {
   "cell_type": "code",
   "execution_count": null,
   "id": "2a8848d3",
   "metadata": {},
   "outputs": [],
   "source": []
  }
 ],
 "metadata": {
  "kernelspec": {
   "display_name": "Python 3 (ipykernel)",
   "language": "python",
   "name": "python3"
  },
  "language_info": {
   "codemirror_mode": {
    "name": "ipython",
    "version": 3
   },
   "file_extension": ".py",
   "mimetype": "text/x-python",
   "name": "python",
   "nbconvert_exporter": "python",
   "pygments_lexer": "ipython3",
   "version": "3.9.12"
  }
 },
 "nbformat": 4,
 "nbformat_minor": 5
}
